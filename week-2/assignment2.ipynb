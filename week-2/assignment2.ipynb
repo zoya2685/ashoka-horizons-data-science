{
 "cells": [
  {
   "cell_type": "code",
   "execution_count": 8,
   "id": "71334333",
   "metadata": {},
   "outputs": [
    {
     "data": {
      "image/png": "[encoded data removed]",
      "text/plain": [
       "<Figure size 600x500 with 1 Axes>"
      ]
     },
     "metadata": {},
     "output_type": "display_data"
    }
   ],
   "source": [
    "from sklearn.cluster import KMeans\n",
    "import matplotlib.pyplot as plt\n",
    "\n",
    "X_cluster_data = np.array([[2, 10], [2, 5], [8, 4], [5, 8],\n",
    "                           [7, 5], [6, 4], [1, 2], [4, 9]])\n",
    "\n",
    "kmeans = KMeans(n_clusters=2, n_init=10, random_state=42)\n",
    "kmeans.fit(X_cluster_data)\n",
    "\n",
    "centroids = kmeans.cluster_centers_\n",
    "labels = kmeans.labels_\n",
    "\n",
    "# Plot\n",
    "plt.figure(figsize=(6, 5))\n",
    "plt.scatter(X_cluster_data[:, 0], X_cluster_data[:, 1], c=labels, cmap='viridis', s=100)\n",
    "plt.scatter(centroids[:, 0], centroids[:, 1], c='red', marker='X', s=200, label='Centroids')\n",
    "plt.title(\"K-Means Clustering (k=2)\")\n",
    "plt.xlabel(\"X\")\n",
    "plt.ylabel(\"Y\")\n",
    "plt.legend()\n",
    "plt.grid(True)\n",
    "plt.tight_layout()\n",
    "plt.show()\n"
   ]
  },
  {
   "cell_type": "markdown",
   "id": "3113ca6c",
   "metadata": {},
   "source": [
    "## Task 4 – K-Means Clustering  \n",
    "We are clustering points in 2D space using k = 2.\n"
   ]
  },
  {
   "cell_type": "code",
   "execution_count": 7,
   "id": "2dbb96d0",
   "metadata": {},
   "outputs": [
    {
     "data": {
      "text/plain": [
       "(0.8,\n",
       " array([[3, 2],\n",
       "        [0, 5]]))"
      ]
     },
     "execution_count": 7,
     "metadata": {},
     "output_type": "execute_result"
    }
   ],
   "source": [
    "from sklearn.linear_model import LogisticRegression\n",
    "from sklearn.metrics import confusion_matrix\n",
    "\n",
    "logreg = LogisticRegression(solver='liblinear')\n",
    "logreg.fit(X_prep_hours, Y_pass_fail)\n",
    "\n",
    "Y_pred = logreg.predict(X_prep_hours)\n",
    "\n",
    "accuracy_logreg = accuracy_score(Y_pass_fail, Y_pred)\n",
    "conf_matrix = confusion_matrix(Y_pass_fail, Y_pred)\n",
    "\n",
    "accuracy_logreg, conf_matrix\n"
   ]
  },
  {
   "cell_type": "code",
   "execution_count": 6,
   "id": "aa64a4d1",
   "metadata": {},
   "outputs": [
    {
     "data": {
      "text/plain": [
       "0.9"
      ]
     },
     "execution_count": 6,
     "metadata": {},
     "output_type": "execute_result"
    }
   ],
   "source": [
    "import numpy as np\n",
    "from sklearn.metrics import accuracy_score\n",
    "\n",
    "# Data\n",
    "X_prep_hours = np.array([0.5, 1.0, 1.5, 2.0, 2.5, 3.0, 3.5, 4.0, 4.5, 5.0]).reshape(-1, 1)\n",
    "Y_pass_fail = np.array([0, 0, 0, 0, 1, 0, 1, 1, 1, 1])\n",
    "\n",
    "# Manual prediction using sigmoid\n",
    "def sigmoid(z):\n",
    "    return 1 / (1 + np.exp(-z))\n",
    "\n",
    "z = 2 * X_prep_hours - 5\n",
    "pred_probs = sigmoid(z)\n",
    "pred_labels = (pred_probs >= 0.5).astype(int)\n",
    "\n",
    "accuracy_manual = accuracy_score(Y_pass_fail, pred_labels)\n",
    "accuracy_manual\n"
   ]
  },
  {
   "cell_type": "markdown",
   "id": "443e082f",
   "metadata": {},
   "source": [
    "## Task 3 – Logistic Regression  \n",
    "We are predicting whether a student passes based on hours of preparation.\n"
   ]
  },
  {
   "cell_type": "code",
   "execution_count": 5,
   "id": "3b3add84",
   "metadata": {},
   "outputs": [
    {
     "data": {
      "text/plain": [
       "(np.float64(7.38095238095238),\n",
       " np.float64(36.78571428571429),\n",
       " 1.4880952380952381,\n",
       " 0.994824016563147)"
      ]
     },
     "execution_count": 5,
     "metadata": {},
     "output_type": "execute_result"
    }
   ],
   "source": [
    "from sklearn.linear_model import LinearRegression\n",
    "from sklearn.metrics import mean_squared_error, r2_score\n",
    "\n",
    "model = LinearRegression()\n",
    "model.fit(X_experience, Y_salary)\n",
    "\n",
    "Y_pred = model.predict(X_experience)\n",
    "\n",
    "slope = model.coef_[0]\n",
    "intercept = model.intercept_\n",
    "mse = mean_squared_error(Y_salary, Y_pred)\n",
    "r2 = r2_score(Y_salary, Y_pred)\n",
    "\n",
    "slope, intercept, mse, r2\n"
   ]
  },
  {
   "cell_type": "code",
   "execution_count": 4,
   "id": "b0bdec78",
   "metadata": {},
   "outputs": [
    {
     "data": {
      "text/plain": [
       "np.float64(4.5)"
      ]
     },
     "execution_count": 4,
     "metadata": {},
     "output_type": "execute_result"
    }
   ],
   "source": [
    "X_experience = np.array([1, 2, 3, 4, 5, 6, 7, 8]).reshape(-1, 1)\n",
    "Y_salary = np.array([45, 50, 60, 65, 75, 80, 90, 95])\n",
    "\n",
    "Y_pred_guess = 7 * X_experience + 40\n",
    "mse_manual = np.mean((Y_salary - Y_pred_guess.flatten())**2)\n",
    "mse_manual\n"
   ]
  },
  {
   "cell_type": "markdown",
   "id": "64142085",
   "metadata": {},
   "source": [
    "## Task 2 – Linear Regression  \n",
    "We are predicting salary based on years of experience.\n"
   ]
  },
  {
   "cell_type": "code",
   "execution_count": 3,
   "id": "025c2b5d",
   "metadata": {},
   "outputs": [
    {
     "data": {
      "text/plain": [
       "(np.float64(76.5),\n",
       " np.float64(78.0),\n",
       " np.int64(78),\n",
       " np.int64(37),\n",
       " np.float64(148.85),\n",
       " np.float64(12.200409829181968))"
      ]
     },
     "execution_count": 3,
     "metadata": {},
     "output_type": "execute_result"
    }
   ],
   "source": [
    "import numpy as np\n",
    "from scipy import stats\n",
    "\n",
    "np_scores = np.array(scores)\n",
    "\n",
    "numpy_mean = np.mean(np_scores)\n",
    "numpy_median = np.median(np_scores)\n",
    "numpy_mode = stats.mode(np_scores, keepdims=True)[0][0]\n",
    "numpy_range = np.ptp(np_scores)\n",
    "numpy_variance = np.var(np_scores)\n",
    "numpy_std_dev = np.std(np_scores)\n",
    "\n",
    "numpy_mean, numpy_median, numpy_mode, numpy_range, numpy_variance, numpy_std_dev\n"
   ]
  },
  {
   "cell_type": "code",
   "execution_count": 2,
   "id": "5bbe6d81",
   "metadata": {},
   "outputs": [
    {
     "data": {
      "text/plain": [
       "(76.5, 78.0, 78, 37, 148.85, 12.200409829181968)"
      ]
     },
     "execution_count": 2,
     "metadata": {},
     "output_type": "execute_result"
    }
   ],
   "source": [
    "scores = [55, 92, 78, 60, 85, 78, 90, 66, 73, 88]\n",
    "\n",
    "# Manual Mean\n",
    "manual_mean = sum(scores) / len(scores)\n",
    "\n",
    "# Manual Median\n",
    "sorted_scores = sorted(scores)\n",
    "n = len(sorted_scores)\n",
    "manual_median = (sorted_scores[n//2 - 1] + sorted_scores[n//2]) / 2\n",
    "\n",
    "# Manual Mode\n",
    "frequency = {}\n",
    "for score in scores:\n",
    "    frequency[score] = frequency.get(score, 0) + 1\n",
    "manual_mode = max(frequency, key=frequency.get)\n",
    "\n",
    "# Manual Range\n",
    "manual_range = max(scores) - min(scores)\n",
    "\n",
    "# Manual Variance & Std Dev\n",
    "manual_variance = sum((x - manual_mean) ** 2 for x in scores) / n\n",
    "manual_std_dev = manual_variance ** 0.5\n",
    "\n",
    "manual_mean, manual_median, manual_mode, manual_range, manual_variance, manual_std_dev\n"
   ]
  },
  {
   "cell_type": "markdown",
   "id": "96884949",
   "metadata": {},
   "source": [
    "# Assignment 2 – Descriptive Statistics and Linear Regression\n",
    "Zoya Sood  \n"
   ]
  }
 ],
 "metadata": {
  "kernelspec": {
   "display_name": ".venv",
   "language": "python",
   "name": "python3"
  },
  "language_info": {
   "codemirror_mode": {
    "name": "ipython",
    "version": 3
   },
   "file_extension": ".py",
   "mimetype": "text/x-python",
   "name": "python",
   "nbconvert_exporter": "python",
   "pygments_lexer": "ipython3",
   "version": "3.9.6"
  }
 },
 "nbformat": 4,
 "nbformat_minor": 5
}
